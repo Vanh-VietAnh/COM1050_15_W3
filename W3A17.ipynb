{
 "cells": [
  {
   "cell_type": "code",
   "execution_count": 8,
   "id": "7b919212-ca54-4c03-b2a1-c331b3ffbaaa",
   "metadata": {},
   "outputs": [
    {
     "name": "stdin",
     "output_type": "stream",
     "text": [
      " 1 2 4 8\n"
     ]
    },
    {
     "ename": "SyntaxError",
     "evalue": "'return' outside function (1580823945.py, line 10)",
     "output_type": "error",
     "traceback": [
      "  \u001b[36mCell\u001b[39m\u001b[36m \u001b[39m\u001b[32mIn[8]\u001b[39m\u001b[32m, line 10\u001b[39m\n\u001b[31m    \u001b[39m\u001b[31mreturn \"YES\"\u001b[39m\n    ^\n\u001b[31mSyntaxError\u001b[39m\u001b[31m:\u001b[39m 'return' outside function\n"
     ]
    }
   ],
   "source": [
    "a,b,c,d=map(int,input().split())\n",
    "def congboi(a,b,c,d):\n",
    "    if(b%a==0):\n",
    "        cb=b/a\n",
    "        return cb\n",
    "    else:\n",
    "        return \"0\"\n",
    "congboi(a,b,c,d)\n",
    "if(b*cb==c and c*cb==d):\n",
    "    return\"YES\"\n",
    "else:\n",
    "    return\"NO\""
   ]
  },
  {
   "cell_type": "code",
   "execution_count": null,
   "id": "06e6675c-d0cc-4609-a48a-22a77d5d7b8d",
   "metadata": {},
   "outputs": [],
   "source": []
  },
  {
   "cell_type": "code",
   "execution_count": null,
   "id": "1c3ff1e4-0adf-4b62-a38e-2b3d2b6d4a7f",
   "metadata": {},
   "outputs": [],
   "source": []
  }
 ],
 "metadata": {
  "kernelspec": {
   "display_name": "Python 3 (ipykernel)",
   "language": "python",
   "name": "python3"
  },
  "language_info": {
   "codemirror_mode": {
    "name": "ipython",
    "version": 3
   },
   "file_extension": ".py",
   "mimetype": "text/x-python",
   "name": "python",
   "nbconvert_exporter": "python",
   "pygments_lexer": "ipython3",
   "version": "3.13.5"
  }
 },
 "nbformat": 4,
 "nbformat_minor": 5
}
