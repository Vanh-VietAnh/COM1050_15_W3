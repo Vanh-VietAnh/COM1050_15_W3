{
 "cells": [
  {
   "cell_type": "code",
   "execution_count": null,
   "id": "419948e0-2c1c-40bd-9378-951cc6aa6603",
   "metadata": {},
   "outputs": [],
   "source": [
    "a,b,c,d=map(int,input().split())\n",
    "Som\n",
    "    "
   ]
  }
 ],
 "metadata": {
  "kernelspec": {
   "display_name": "Python 3 (ipykernel)",
   "language": "python",
   "name": "python3"
  },
  "language_info": {
   "codemirror_mode": {
    "name": "ipython",
    "version": 3
   },
   "file_extension": ".py",
   "mimetype": "text/x-python",
   "name": "python",
   "nbconvert_exporter": "python",
   "pygments_lexer": "ipython3",
   "version": "3.13.5"
  }
 },
 "nbformat": 4,
 "nbformat_minor": 5
}
