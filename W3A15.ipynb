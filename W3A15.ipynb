{
 "cells": [
  {
   "cell_type": "code",
   "execution_count": 5,
   "id": "c9a9ded4-eae5-42c0-b310-cead6b5fd57d",
   "metadata": {},
   "outputs": [
    {
     "name": "stdin",
     "output_type": "stream",
     "text": [
      " 11\n"
     ]
    },
    {
     "data": {
      "text/plain": [
       "'GIOI'"
      ]
     },
     "execution_count": 5,
     "metadata": {},
     "output_type": "execute_result"
    }
   ],
   "source": [
    "n=float(input())\n",
    "def phanloai(n):\n",
    "    if n > 10 and n<0:\n",
    "        return(\"0\")\n",
    "    if n >=8:\n",
    "        return(\"GIOI\")\n",
    "    elif n>=6.5:\n",
    "        return(\"KHA\")\n",
    "    elif n>=5:\n",
    "        return(\"TRUNG BINH\")\n",
    "    else:\n",
    "        return(\"YEU\")\n",
    "phanloai(n)"
   ]
  },
  {
   "cell_type": "code",
   "execution_count": null,
   "id": "2809642f-92ae-4a49-86e0-71f74bd39ba7",
   "metadata": {},
   "outputs": [],
   "source": []
  }
 ],
 "metadata": {
  "kernelspec": {
   "display_name": "Python 3 (ipykernel)",
   "language": "python",
   "name": "python3"
  },
  "language_info": {
   "codemirror_mode": {
    "name": "ipython",
    "version": 3
   },
   "file_extension": ".py",
   "mimetype": "text/x-python",
   "name": "python",
   "nbconvert_exporter": "python",
   "pygments_lexer": "ipython3",
   "version": "3.13.5"
  }
 },
 "nbformat": 4,
 "nbformat_minor": 5
}
