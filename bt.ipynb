{
 "cells": [
  {
   "cell_type": "code",
   "execution_count": null,
   "id": "9d02e1e8-4fbe-47ce-9da4-e45b1099f1a3",
   "metadata": {},
   "outputs": [],
   "source": [
    "#ceil làm tròn lên\n",
    "#floor làm tròn xuống\n",
    "# thư viện math\n",
    "\n",
    "import math \n",
    "m,n=map(float,input().split())\n",
    "kq=m/n\n",
    "kq=math.floor(kq)\n",
    "print(kq)"
   ]
  },
  {
   "cell_type": "code",
   "execution_count": null,
   "id": "b2564cda-33b2-4419-b762-bb26ab4c2ba4",
   "metadata": {},
   "outputs": [],
   "source": []
  }
 ],
 "metadata": {
  "kernelspec": {
   "display_name": "Python 3 (ipykernel)",
   "language": "python",
   "name": "python3"
  },
  "language_info": {
   "codemirror_mode": {
    "name": "ipython",
    "version": 3
   },
   "file_extension": ".py",
   "mimetype": "text/x-python",
   "name": "python",
   "nbconvert_exporter": "python",
   "pygments_lexer": "ipython3",
   "version": "3.13.5"
  }
 },
 "nbformat": 4,
 "nbformat_minor": 5
}
