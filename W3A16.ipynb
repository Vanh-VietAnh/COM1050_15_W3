{
 "cells": [
  {
   "cell_type": "code",
   "execution_count": 8,
   "id": "d51473ac-e4ab-4b9e-b07b-f9bea3a8b011",
   "metadata": {},
   "outputs": [
    {
     "name": "stdin",
     "output_type": "stream",
     "text": [
      " 2.9\n"
     ]
    },
    {
     "name": "stdout",
     "output_type": "stream",
     "text": [
      "2\n",
      "3\n",
      "3\n"
     ]
    }
   ],
   "source": [
    "n=float(input())\n",
    "n_lower=int(n)\n",
    "n_upper=int(n)+1\n",
    "print(n_lower)\n",
    "print(n_upper)\n",
    "if(n-n_lower>=0,5):\n",
    "    n_nearest=n_upper\n",
    "else:\n",
    "    n_nearest=n_lower\n",
    "print(n_nearest)"
   ]
  },
  {
   "cell_type": "code",
   "execution_count": null,
   "id": "66bcaac3-834f-477a-b6f6-f4870ec7c3fe",
   "metadata": {},
   "outputs": [],
   "source": []
  }
 ],
 "metadata": {
  "kernelspec": {
   "display_name": "Python 3 (ipykernel)",
   "language": "python",
   "name": "python3"
  },
  "language_info": {
   "codemirror_mode": {
    "name": "ipython",
    "version": 3
   },
   "file_extension": ".py",
   "mimetype": "text/x-python",
   "name": "python",
   "nbconvert_exporter": "python",
   "pygments_lexer": "ipython3",
   "version": "3.13.5"
  }
 },
 "nbformat": 4,
 "nbformat_minor": 5
}
