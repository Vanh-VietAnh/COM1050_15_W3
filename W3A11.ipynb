{
 "cells": [
  {
   "cell_type": "code",
   "execution_count": null,
   "id": "16bf6142-4bea-4f9a-ad0d-e30bb048f062",
   "metadata": {},
   "outputs": [],
   "source": [
    "a,b,c=map(int,input().split())\n",
    "def tamgiac(a,b,c):\n",
    "    if a+b>c and a+c>b and b+c>a:\n",
    "        return(True)\n",
    "    else:\n",
    "        return(\"False\")\n",
    "def phanloaitamgiac(a,b,c):\n",
    "    if tamgiac(a,b,c)== True:\n",
    "        if a==b==c:\n",
    "            print(\"Tam giac deu\")\n",
    "        elif a==b or a==c or b==c:\n",
    "            print (\"Tam giac can\")\n",
    "        else:\n",
    "            print(\"Tam giac thuong\")\n",
    "    else:\n",
    "        print (\"Khong phai tam giac\")\n",
    "tamgiac(a,b,c)\n",
    "phanloaitamgiac(a,b,c)\n",
    "            "
   ]
  },
  {
   "cell_type": "code",
   "execution_count": null,
   "id": "d6140433-615e-4120-86d7-4acf08465439",
   "metadata": {},
   "outputs": [],
   "source": []
  }
 ],
 "metadata": {
  "kernelspec": {
   "display_name": "Python 3 (ipykernel)",
   "language": "python",
   "name": "python3"
  },
  "language_info": {
   "codemirror_mode": {
    "name": "ipython",
    "version": 3
   },
   "file_extension": ".py",
   "mimetype": "text/x-python",
   "name": "python",
   "nbconvert_exporter": "python",
   "pygments_lexer": "ipython3",
   "version": "3.13.5"
  }
 },
 "nbformat": 4,
 "nbformat_minor": 5
}
